{
 "cells": [
  {
   "cell_type": "code",
   "execution_count": 19,
   "metadata": {},
   "outputs": [
    {
     "name": "stdout",
     "output_type": "stream",
     "text": [
      "Der erste Eintrag ist:443 Der zweite Eintrag ist:232 Der dritte Eintrag ist:1345 Das Produkt ist:138233720\n",
      "Der erste Eintrag ist:443 Der zweite Eintrag ist:1345 Der dritte Eintrag ist:232 Das Produkt ist:138233720\n",
      "Der erste Eintrag ist:232 Der zweite Eintrag ist:443 Der dritte Eintrag ist:1345 Das Produkt ist:138233720\n",
      "Der erste Eintrag ist:232 Der zweite Eintrag ist:1345 Der dritte Eintrag ist:443 Das Produkt ist:138233720\n",
      "Der erste Eintrag ist:1345 Der zweite Eintrag ist:443 Der dritte Eintrag ist:232 Das Produkt ist:138233720\n",
      "Der erste Eintrag ist:1345 Der zweite Eintrag ist:232 Der dritte Eintrag ist:443 Das Produkt ist:138233720\n"
     ]
    }
   ],
   "source": [
    "with open('advent1.txt') as f:\n",
    "    content = f.readlines()\n",
    "content = [x.strip() for x in content]\n",
    "content\n",
    "for entry in content:\n",
    "    for entry2 in content:\n",
    "        for entry3 in content:\n",
    "            sum = int(entry)+int(entry2)+int(entry3)\n",
    "            if(sum == 2020):\n",
    "                multi = int(entry)*int(entry2)*int(entry3)\n",
    "                print(\"Der erste Eintrag ist:\" + str(entry) + \" Der zweite Eintrag ist:\"+ str(entry2)+\" Der dritte Eintrag ist:\"+ str(entry3) + \" Das Produkt ist:\" + str(multi))\n",
    "\n"
   ]
  },
  {
   "cell_type": "code",
   "execution_count": null,
   "metadata": {},
   "outputs": [],
   "source": []
  }
 ],
 "metadata": {
  "kernelspec": {
   "display_name": "Python 3",
   "language": "python",
   "name": "python3"
  },
  "language_info": {
   "codemirror_mode": {
    "name": "ipython",
    "version": 3
   },
   "file_extension": ".py",
   "mimetype": "text/x-python",
   "name": "python",
   "nbconvert_exporter": "python",
   "pygments_lexer": "ipython3",
   "version": "3.6.12"
  }
 },
 "nbformat": 4,
 "nbformat_minor": 4
}
