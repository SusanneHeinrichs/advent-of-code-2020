{
 "cells": [
  {
   "cell_type": "code",
   "execution_count": 11,
   "metadata": {},
   "outputs": [
    {
     "name": "stdout",
     "output_type": "stream",
     "text": [
      "Das Ergebnis der Multiplikation ist: 138233720\n"
     ]
    }
   ],
   "source": [
    "def readInput() -> list:\n",
    "    with open('puzzle-input.txt') as f:\n",
    "        expenseReport = f.readlines()\n",
    "    expenseReport = [x.strip() for x in expenseReport]\n",
    "    return expenseReport\n",
    "\n",
    "\n",
    "def calculateExpense(expenseReport: list) -> int:\n",
    "    for entry in expenseReport:\n",
    "        for entry2 in expenseReport:\n",
    "            for entry3 in expenseReport:\n",
    "                sum = int(entry)+int(entry2)+int(entry3)\n",
    "                if(sum == 2020):\n",
    "                    multi = int(entry)*int(entry2)*int(entry3)\n",
    "                    return multi\n",
    "\n",
    "mutli = calculateExpense(readInput())\n",
    "print(\"Die Lösung für Part zwei ist: \" + str(multi))"
   ]
  }
 ],
 "metadata": {
  "kernelspec": {
   "display_name": "Python 3",
   "language": "python",
   "name": "python3"
  },
  "language_info": {
   "codemirror_mode": {
    "name": "ipython",
    "version": 3
   },
   "file_extension": ".py",
   "mimetype": "text/x-python",
   "name": "python",
   "nbconvert_exporter": "python",
   "pygments_lexer": "ipython3",
   "version": "3.6.12"
  }
 },
 "nbformat": 4,
 "nbformat_minor": 4
}
